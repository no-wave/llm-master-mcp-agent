{
 "cells": [
  {
   "cell_type": "markdown",
   "id": "d7775637-f5c6-4794-8fc6-11ef56381af9",
   "metadata": {},
   "source": [
    "# Creating MCP Server"
   ]
  },
  {
   "cell_type": "markdown",
   "id": "1918e37d-deec-4aea-b7db-b17a67c7d723",
   "metadata": {},
   "source": [
    "## Building MCP Server with `FastMCP`"
   ]
  },
  {
   "cell_type": "code",
   "execution_count": 10,
   "id": "3614cabd-c8b2-43c1-a7f9-23419af0b1bc",
   "metadata": {
    "tags": []
   },
   "outputs": [
    {
     "name": "stdout",
     "output_type": "stream",
     "text": [
      "mkdir: mcp_project: File exists\n"
     ]
    }
   ],
   "source": [
    "!mkdir mcp_project"
   ]
  },
  {
   "cell_type": "code",
   "execution_count": 11,
   "id": "8659e3ed-3896-41fb-82af-c3546643451c",
   "metadata": {
    "tags": []
   },
   "outputs": [
    {
     "name": "stdout",
     "output_type": "stream",
     "text": [
      "Writing mcp_project/research_server.py\n"
     ]
    }
   ],
   "source": [
    "%%writefile mcp_project/research_server.py\n",
    "\n",
    "import arxiv\n",
    "import json\n",
    "import os\n",
    "from typing import List\n",
    "from mcp.server.fastmcp import FastMCP\n",
    "\n",
    "\n",
    "PAPER_DIR = \"../../papers\"\n",
    "\n",
    "# FastMCP 서버 초기화\n",
    "mcp = FastMCP(\"research\")\n",
    "\n",
    "@mcp.tool()\n",
    "def search_papers(topic: str, max_results: int = 5) -> List[str]:\n",
    "    \"\"\"\n",
    "    주제를 기반으로 arXiv에서 논문을 검색하고 해당 정보를 저장한다.\n",
    "\n",
    "    Args:\n",
    "        topic: 검색할 주제\n",
    "        max_results: 검색할 최대 결과 수 (기본값: 5)\n",
    "\n",
    "    Returns:\n",
    "        검색된 논문의 ID 리스트\n",
    "    \"\"\"\n",
    "    \n",
    "    # arxiv를 사용하여 논문 검색\n",
    "    client = arxiv.Client()\n",
    "\n",
    "    # 입력한 주제와 가장 관련성 높은 논문 검색\n",
    "    search = arxiv.Search(\n",
    "        query = topic,\n",
    "        max_results = max_results,\n",
    "        sort_by = arxiv.SortCriterion.Relevance\n",
    "    )\n",
    "\n",
    "    papers = client.results(search)\n",
    "    \n",
    "    # 주제에 해당하는 디렉토리 생성\n",
    "    path = os.path.join(PAPER_DIR, topic.lower().replace(\" \", \"_\"))\n",
    "    os.makedirs(path, exist_ok=True)\n",
    "    \n",
    "    file_path = os.path.join(path, \"papers_info.json\")\n",
    "\n",
    "    # 기존 논문 정보 불러오기 시도\n",
    "    try:\n",
    "        with open(file_path, \"r\") as json_file:\n",
    "            papers_info = json.load(json_file)\n",
    "    except (FileNotFoundError, json.JSONDecodeError):\n",
    "        papers_info = {}\n",
    "\n",
    "    # 각 논문을 처리하여 papers_info에 추가\n",
    "    paper_ids = []\n",
    "    for paper in papers:\n",
    "        paper_ids.append(paper.get_short_id())\n",
    "        paper_info = {\n",
    "            'title': paper.title,\n",
    "            'authors': [author.name for author in paper.authors],\n",
    "            'summary': paper.summary,\n",
    "            'pdf_url': paper.pdf_url,\n",
    "            'published': str(paper.published.date())\n",
    "        }\n",
    "        papers_info[paper.get_short_id()] = paper_info\n",
    "    \n",
    "    # papers_info를 JSON 파일로 저장\n",
    "    with open(file_path, \"w\") as json_file:\n",
    "        json.dump(papers_info, json_file, indent=2)\n",
    "    \n",
    "    print(f\"결과가 다음 위치에 저장되었습니다: {file_path}\")\n",
    "    \n",
    "    return paper_ids\n",
    "\n",
    "@mcp.tool()\n",
    "def extract_info(paper_id: str) -> str:\n",
    "    \"\"\"\n",
    "    모든 주제 디렉토리에서 특정 논문 ID에 대한 정보를 검색한다.\n",
    "\n",
    "    Args:\n",
    "        paper_id: 검색할 논문의 ID\n",
    "\n",
    "    Returns:\n",
    "        논문 정보를 담은 JSON 문자열 (찾지 못한 경우 오류 메시지 반환)\n",
    "    \"\"\"\n",
    " \n",
    "    for item in os.listdir(PAPER_DIR):\n",
    "        item_path = os.path.join(PAPER_DIR, item)\n",
    "        if os.path.isdir(item_path):\n",
    "            file_path = os.path.join(item_path, \"papers_info.json\")\n",
    "            if os.path.isfile(file_path):\n",
    "                try:\n",
    "                    with open(file_path, \"r\") as json_file:\n",
    "                        papers_info = json.load(json_file)\n",
    "                        if paper_id in papers_info:\n",
    "                            return json.dumps(papers_info[paper_id], indent=2)\n",
    "                except (FileNotFoundError, json.JSONDecodeError) as e:\n",
    "                    print(f\"{file_path} 파일 읽기 오류: {str(e)}\")\n",
    "                    continue\n",
    "    \n",
    "    return f\"{paper_id} 논문에 대한 저장된 정보를 찾을 수 없습니다.\"\n",
    "\n",
    "if __name__ == \"__main__\":\n",
    "    # 서버 실행 (stdio 방식으로)\n",
    "    mcp.run(transport='stdio')"
   ]
  }
 ],
 "metadata": {
  "kernelspec": {
   "display_name": "mlops",
   "language": "python",
   "name": "mlops"
  },
  "language_info": {
   "codemirror_mode": {
    "name": "ipython",
    "version": 3
   },
   "file_extension": ".py",
   "mimetype": "text/x-python",
   "name": "python",
   "nbconvert_exporter": "python",
   "pygments_lexer": "ipython3",
   "version": "3.10.14"
  }
 },
 "nbformat": 4,
 "nbformat_minor": 5
}
