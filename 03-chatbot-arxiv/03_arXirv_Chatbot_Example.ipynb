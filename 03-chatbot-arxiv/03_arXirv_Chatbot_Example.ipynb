{
 "cells": [
  {
   "cell_type": "markdown",
   "id": "1c10b768-f5b4-43bc-a785-99077422ce78",
   "metadata": {},
   "source": [
    "# Chatbot Example: Arxiv Paper"
   ]
  },
  {
   "cell_type": "markdown",
   "id": "e0ed96ba-5ade-4af4-9096-406ce48d5cf2",
   "metadata": {},
   "source": [
    "## Setup Environment"
   ]
  },
  {
   "cell_type": "code",
   "execution_count": 8,
   "id": "4bc2fb34-0c27-42ea-8cca-40cf8f4a34b1",
   "metadata": {
    "tags": []
   },
   "outputs": [],
   "source": [
    "#%pip install arxiv\n",
    "#%pip install openai\n",
    "#%pip install python-dotenv"
   ]
  },
  {
   "cell_type": "code",
   "execution_count": 13,
   "id": "dd6bd1d4-f652-45d1-9efa-155a2cc01713",
   "metadata": {
    "tags": []
   },
   "outputs": [],
   "source": [
    "import arxiv\n",
    "import json\n",
    "import os\n",
    "from typing import List\n",
    "from dotenv import load_dotenv"
   ]
  },
  {
   "cell_type": "markdown",
   "id": "f20f163a-87af-4e0c-87ed-1624c150c572",
   "metadata": {},
   "source": [
    "## Tool Functions"
   ]
  },
  {
   "cell_type": "code",
   "execution_count": 14,
   "id": "549a7f46-74b3-4a1d-b084-055c99e3c318",
   "metadata": {
    "tags": []
   },
   "outputs": [],
   "source": [
    "PAPER_DIR = \"./../papers\""
   ]
  },
  {
   "cell_type": "code",
   "execution_count": 15,
   "id": "7a373f5e-d936-4f3f-aa11-dbe4eae81fb0",
   "metadata": {
    "tags": []
   },
   "outputs": [],
   "source": [
    "from typing import List\n",
    "import os\n",
    "import json\n",
    "import arxiv\n",
    "\n",
    "\n",
    "def search_papers(topic: str, max_results: int = 5) -> List[str]:\n",
    "    \"\"\"\n",
    "    주제를 기반으로 arXiv에서 논문을 검색하고 해당 정보를 저장한다.\n",
    "\n",
    "    Args:\n",
    "        topic: 검색할 주제\n",
    "        max_results: 검색할 최대 결과 수 (기본값: 5)\n",
    "\n",
    "    Returns:\n",
    "        검색에서 찾은 논문 ID 목록\n",
    "    \"\"\"\n",
    "    # arxiv를 사용하여 논문 찾기\n",
    "    client = arxiv.Client()\n",
    "    search = arxiv.Search(\n",
    "        query     = topic,\n",
    "        max_results = max_results,\n",
    "        sort_by   = arxiv.SortCriterion.Relevance\n",
    "    )\n",
    "    papers = client.results(search)\n",
    "\n",
    "    # 이 주제에 대한 디렉토리 생성\n",
    "    path = os.path.join(PAPER_DIR, topic.lower().replace(\" \", \"_\"))\n",
    "    os.makedirs(path, exist_ok=True)\n",
    "\n",
    "    file_path = os.path.join(path, \"papers_info.json\")\n",
    "\n",
    "    # 기존 논문 정보 로드 시도\n",
    "    try:\n",
    "        with open(file_path, \"r\") as json_file:\n",
    "            papers_info = json.load(json_file)\n",
    "    except (FileNotFoundError, json.JSONDecodeError):\n",
    "        papers_info = {}\n",
    "\n",
    "    # 각 논문을 처리하고 papers_info에 추가\n",
    "    paper_ids = []\n",
    "    for paper in papers:\n",
    "        paper_id   = paper.get_short_id()\n",
    "        paper_info = {\n",
    "            \"title\"    : paper.title,\n",
    "            \"authors\"  : [author.name for author in paper.authors],\n",
    "            \"summary\"  : paper.summary,\n",
    "            \"pdf_url\"  : paper.pdf_url,\n",
    "            \"published\": str(paper.published.date())\n",
    "        }\n",
    "        paper_ids.append(paper_id)\n",
    "        papers_info[paper_id] = paper_info\n",
    "\n",
    "    # 업데이트된 papers_info를 json 파일에 저장\n",
    "    with open(file_path, \"w\") as json_file:\n",
    "        json.dump(papers_info, json_file, indent=2)\n",
    "\n",
    "    print(f\"결과가 다음 위치에 저장되었습니다: {file_path}\")\n",
    "    return paper_ids"
   ]
  },
  {
   "cell_type": "code",
   "execution_count": 16,
   "id": "d20ee17a-afe6-438a-95b1-6e87742c7fac",
   "metadata": {
    "tags": []
   },
   "outputs": [
    {
     "name": "stdout",
     "output_type": "stream",
     "text": [
      "결과가 다음 위치에 저장되었습니다: ./../papers/computers/papers_info.json\n"
     ]
    },
    {
     "data": {
      "text/plain": [
       "['1310.7911v2',\n",
       " 'math/9711204v1',\n",
       " '2208.00733v1',\n",
       " '2504.07020v1',\n",
       " '2403.03925v1']"
      ]
     },
     "execution_count": 16,
     "metadata": {},
     "output_type": "execute_result"
    }
   ],
   "source": [
    "search_papers(\"computers\")"
   ]
  },
  {
   "cell_type": "code",
   "execution_count": 17,
   "id": "66067331-87d4-4d3f-8423-1f4f527705a3",
   "metadata": {
    "tags": []
   },
   "outputs": [],
   "source": [
    "def extract_info(paper_id: str) -> str:\n",
    "    \"\"\"\n",
    "    모든 주제 디렉토리에서 특정 논문에 관한 정보를 검색한다.\n",
    "    \n",
    "    Args:\n",
    "        paper_id: 검색할 논문의 ID\n",
    "        \n",
    "    Returns:\n",
    "        찾은 경우 논문 정보가 담긴 JSON 문자열, 찾지 못한 경우 오류 메시지\n",
    "    \"\"\"\n",
    " \n",
    "    for item in os.listdir(PAPER_DIR):\n",
    "        item_path = os.path.join(PAPER_DIR, item)\n",
    "        if os.path.isdir(item_path):\n",
    "            file_path = os.path.join(item_path, \"papers_info.json\")\n",
    "            if os.path.isfile(file_path):\n",
    "                try:\n",
    "                    with open(file_path, \"r\") as json_file:\n",
    "                        papers_info = json.load(json_file)\n",
    "                        if paper_id in papers_info:\n",
    "                            return json.dumps(papers_info[paper_id], indent=2)\n",
    "                except (FileNotFoundError, json.JSONDecodeError) as e:\n",
    "                    print(f\"{file_path} 읽기 오류: {str(e)}\")\n",
    "                    continue\n",
    "    \n",
    "    return f\"논문 {paper_id}와 관련된 저장된 정보가 없다.\""
   ]
  },
  {
   "cell_type": "code",
   "execution_count": 18,
   "id": "0ebe0de7-8f07-4e08-a670-7b371fc3d2d9",
   "metadata": {
    "tags": []
   },
   "outputs": [
    {
     "data": {
      "text/plain": [
       "'{\\n  \"title\": \"Compact manifolds with computable boundaries\",\\n  \"authors\": [\\n    \"Zvonko Iljazovic\"\\n  ],\\n  \"summary\": \"We investigate conditions under which a co-computably enumerable closed set\\\\nin a computable metric space is computable and prove that in each locally\\\\ncomputable computable metric space each co-computably enumerable compact\\\\nmanifold with computable boundary is computable. In fact, we examine the notion\\\\nof a semi-computable compact set and we prove a more general result: in any\\\\ncomputable metric space each semi-computable compact manifold with computable\\\\nboundary is computable. In particular, each semi-computable compact\\\\n(boundaryless) manifold is computable.\",\\n  \"pdf_url\": \"http://arxiv.org/pdf/1310.7911v2\",\\n  \"published\": \"2013-10-29\"\\n}'"
      ]
     },
     "execution_count": 18,
     "metadata": {},
     "output_type": "execute_result"
    }
   ],
   "source": [
    "extract_info('1310.7911v2')"
   ]
  },
  {
   "cell_type": "markdown",
   "id": "b5ea3013-e690-4bc8-8622-27b4d42d61e4",
   "metadata": {},
   "source": [
    "## Tool Schema"
   ]
  },
  {
   "cell_type": "code",
   "execution_count": 19,
   "id": "e5bdea5f-e93a-4018-8c13-00d5ee10c0b7",
   "metadata": {
    "tags": []
   },
   "outputs": [],
   "source": [
    "functions = [\n",
    "    {\n",
    "        \"name\": \"search_papers\",\n",
    "        \"description\": \"주제를 기반으로 arXiv에서 논문을 검색하고 해당 정보를 저장한다.\",\n",
    "        \"parameters\": {\n",
    "            \"type\": \"object\",\n",
    "            \"properties\": {\n",
    "                \"topic\": {\n",
    "                    \"type\": \"string\",\n",
    "                    \"description\": \"검색할 주제\"\n",
    "                },\n",
    "                \"max_results\": {\n",
    "                    \"type\": \"integer\",\n",
    "                    \"description\": \"검색할 최대 결과 수\",\n",
    "                    \"default\": 5\n",
    "                }\n",
    "            },\n",
    "            \"required\": [\"topic\"]\n",
    "        }\n",
    "    },\n",
    "    {\n",
    "        \"name\": \"extract_info\",\n",
    "        \"description\": \"모든 주제 디렉토리에서 특정 논문에 관한 정보를 검색한다.\",\n",
    "        \"parameters\": {\n",
    "            \"type\": \"object\",\n",
    "            \"properties\": {\n",
    "                \"paper_id\": {\n",
    "                    \"type\": \"string\",\n",
    "                    \"description\": \"검색할 논문의 ID\"\n",
    "                }\n",
    "            },\n",
    "            \"required\": [\"paper_id\"]\n",
    "        }\n",
    "    }\n",
    "]"
   ]
  },
  {
   "cell_type": "markdown",
   "id": "ec668d24-1559-41b7-bc8a-e2dca77dfaf2",
   "metadata": {},
   "source": [
    "## Tool Mapping"
   ]
  },
  {
   "cell_type": "code",
   "execution_count": 20,
   "id": "66e1d3e9-28c0-4ab5-b4ea-db1677dc1de2",
   "metadata": {
    "tags": []
   },
   "outputs": [],
   "source": [
    "mapping_tool_function = {\n",
    "    \"search_papers\": search_papers,\n",
    "    \"extract_info\": extract_info\n",
    "}\n",
    "\n",
    "def execute_tool(tool_name, tool_args):\n",
    "    result = mapping_tool_function[tool_name](**tool_args)\n",
    "    if result is None:\n",
    "        return \"작업이 완료되었지만 결과를 반환하지 않았다.\"\n",
    "    \n",
    "    if isinstance(result, list):\n",
    "        return \", \".join(result)\n",
    "    \n",
    "    if isinstance(result, dict):\n",
    "        return json.dumps(result, indent=2, ensure_ascii=False)\n",
    "    \n",
    "    return str(result)"
   ]
  },
  {
   "cell_type": "markdown",
   "id": "4d8fc4d3-58ac-482c-8bbd-bccd6ef9fc31",
   "metadata": {},
   "source": [
    "## Chatbot Code"
   ]
  },
  {
   "cell_type": "code",
   "execution_count": 22,
   "id": "15a2d530-cacb-4c2a-87e7-549faa8d3a9a",
   "metadata": {
    "tags": []
   },
   "outputs": [
    {
     "name": "stderr",
     "output_type": "stream",
     "text": [
      "python-dotenv could not parse statement starting at line 2\n"
     ]
    }
   ],
   "source": [
    "from openai import OpenAI\n",
    "from dotenv import load_dotenv\n",
    "import os\n",
    "\n",
    "#!echo \"<당신의 OpenAI Key를 여기에 붙혀넣으세요>\" >> .env\n",
    "load_dotenv()\n",
    "client = OpenAI(api_key=os.getenv(\"OPENAI_API_KEY\"))"
   ]
  },
  {
   "cell_type": "markdown",
   "id": "175586b4-acdf-4103-8039-134478a4f797",
   "metadata": {},
   "source": [
    "### Query Processing"
   ]
  },
  {
   "cell_type": "code",
   "execution_count": 23,
   "id": "12a896e0-3f56-417e-aa51-c61756048593",
   "metadata": {
    "tags": []
   },
   "outputs": [],
   "source": [
    "def process_query(query: str):\n",
    "    messages = [{\"role\": \"user\", \"content\": query}]\n",
    "\n",
    "    while True:\n",
    "        resp = client.chat.completions.create(\n",
    "            model=\"gpt-4o-mini\",\n",
    "            messages=messages,\n",
    "            functions=functions,\n",
    "            function_call=\"auto\",\n",
    "            max_tokens=2024\n",
    "        )\n",
    "        msg = resp.choices[0].message\n",
    "\n",
    "        # 1) 일반 텍스트 응답\n",
    "        if msg.content is not None:\n",
    "            print(msg.content)\n",
    "            break\n",
    "\n",
    "        # 2) 함수 호출 응답\n",
    "        call = msg.function_call\n",
    "        fname = call.name\n",
    "        fargs = json.loads(call.arguments)\n",
    "\n",
    "        print(f\"Calling tool `{fname}` with args: {fargs}\")\n",
    "        tool_result = execute_tool(fname, fargs)\n",
    "\n",
    "        # assistant의 함수 호출 메시지를 기록\n",
    "        messages.append({\n",
    "            \"role\": \"assistant\",\n",
    "            \"function_call\": {\n",
    "                \"name\": fname,\n",
    "                \"arguments\": call.arguments\n",
    "            }\n",
    "        })\n",
    "        # 함수 실행 결과를 function 역할로 추가\n",
    "        messages.append({\n",
    "            \"role\": \"function\",\n",
    "            \"name\": fname,\n",
    "            \"content\": tool_result\n",
    "        })\n",
    "        # 루프 계속 → 모델이 function 결과를 바탕으로 응답 생성"
   ]
  },
  {
   "cell_type": "markdown",
   "id": "2921ee7f-d2be-464b-ab7b-8db2a3c13ba9",
   "metadata": {},
   "source": [
    "### Chat Loop"
   ]
  },
  {
   "cell_type": "code",
   "execution_count": 24,
   "id": "16979cdc-81e9-432b-ba7f-e810b52961e8",
   "metadata": {
    "tags": []
   },
   "outputs": [],
   "source": [
    "def chat_loop():\n",
    "    print(\"쿼리를 입력하거나 'quit'를 입력해 종료합니다.\")\n",
    "    while True:\n",
    "        query = input(\"Query: \").strip()\n",
    "        if query.lower() == \"quit\":\n",
    "            break\n",
    "        try:\n",
    "            process_query(query)\n",
    "        \n",
    "        except Exception as e:\n",
    "            print(f\"Error: {e}\")"
   ]
  },
  {
   "cell_type": "code",
   "execution_count": 25,
   "id": "39676f70-1c72-4da3-8363-da281bd5a83e",
   "metadata": {
    "tags": []
   },
   "outputs": [
    {
     "name": "stdout",
     "output_type": "stream",
     "text": [
      "쿼리를 입력하거나 'quit'를 입력해 종료합니다.\n"
     ]
    },
    {
     "name": "stdin",
     "output_type": "stream",
     "text": [
      "Query:  논문 제목을 알려줄래\n"
     ]
    },
    {
     "name": "stdout",
     "output_type": "stream",
     "text": [
      "어떤 주제에 대한 논문 제목을 알고 싶으신가요? 특정한 분야나 키워드를 말씀해 주시면 관련 논문을 찾아드릴 수 있습니다.\n"
     ]
    },
    {
     "name": "stdin",
     "output_type": "stream",
     "text": [
      "Query:  LLM 해석 가능성에 대한 논문 2편을 검색해줘.\n"
     ]
    },
    {
     "name": "stdout",
     "output_type": "stream",
     "text": [
      "Calling tool `search_papers` with args: {'topic': 'LLM interpretability', 'max_results': 2}\n",
      "결과가 다음 위치에 저장되었습니다: ./../papers/llm_interpretability/papers_info.json\n",
      "Calling tool `extract_info` with args: {'paper_id': '2412.07992v3'}\n",
      "Calling tool `extract_info` with args: {'paper_id': '2402.01761v1'}\n",
      "다음은 LLM 해석 가능성에 관한 두 편의 논문입니다.\n",
      "\n",
      "1. **논문 제목**: [Concept Bottleneck Large Language Models](http://arxiv.org/pdf/2412.07992v3)  \n",
      "   **저자**: Chung-En Sun, Tuomas Oikarinen, Berk Ustun, Tsui-Wei Weng  \n",
      "   **요약**: 이 논문에서는 본질적으로 해석 가능한 LLM을 구축하기 위한 새로운 프레임워크인 개념 병목 LLM (CB-LLMs)을 소개합니다. CB-LLMs는 전통적인 블랙 박스 LLM과 달리 LLM에 본질적인 해석 가능성을 통합하여 정확한 설명을 제공합니다. 텍스트 분류와 생성이라는 두 가지 핵심 NLP 작업에 대해 CB-LLMs를 구축하며, 경쟁력 있는 성능을 보여주고 해석 가능한 이유를 제공합니다. 이 모델은 유해 콘텐츠 식별, 모델 행동 조정 및 원치 않는 개념 언learn 능력을 강화하여 LLM의 안전성과 신뢰성을 크게 향상시킵니다.  \n",
      "   **발행 일자**: 2024-12-11\n",
      "\n",
      "2. **논문 제목**: [Rethinking Interpretability in the Era of Large Language Models](http://arxiv.org/pdf/2402.01761v1)  \n",
      "   **저자**: Chandan Singh, Jeevana Priya Inala, Michel Galley, Rich Caruana, Jianfeng Gao  \n",
      "   **요약**: 이 포지션 논문은 해석 가능한 기계 학습 분야의 기존 방법을 검토하고 LLM 해석의 새로운 기회를 다룹니다. LLM은 자연어로 설명할 수 있는 능력을 갖추고 있으며, 이는 해석 가능성을 재정의할 기회를 제공합니다. 하지만 이러한 새로운 기능은 허위 설명과 막대한 계산 비용과 같은 새로운 문제를 초래합니다. 논문에서는 LLM 해석을 위한 두 가지 연구 우선 순위를 강조합니다: LLM을 사용하여 새로운 데이터셋을 분석하고 상호작용형 설명을 생성하는 것입니다.  \n",
      "   **발행 일자**: 2024-01-30\n",
      "\n",
      "원하는 정보가 더 필요하시면 말씀해 주세요!\n"
     ]
    },
    {
     "name": "stdin",
     "output_type": "stream",
     "text": [
      "Query:  quit\n"
     ]
    }
   ],
   "source": [
    "chat_loop()"
   ]
  },
  {
   "cell_type": "markdown",
   "id": "e65a0b56-c556-4a51-82eb-908d0efbdcd4",
   "metadata": {},
   "source": [
    "## OpenAI 전체 코드"
   ]
  },
  {
   "cell_type": "code",
   "execution_count": 28,
   "id": "fcb9cc71-ac59-470b-b480-65cdda8ad851",
   "metadata": {
    "tags": []
   },
   "outputs": [
    {
     "name": "stdout",
     "output_type": "stream",
     "text": [
      "쿼리를 입력하거나 'quit'를 입력해 종료합니다.\n"
     ]
    },
    {
     "name": "stdin",
     "output_type": "stream",
     "text": [
      "Query:  논문 제목을 알려줄래\n"
     ]
    },
    {
     "name": "stdout",
     "output_type": "stream",
     "text": [
      "원하는 논문 제목이나 주제가 있으신가요? 특정 주제나 분야에 대한 논문 제목을 찾고 싶으시면 말씀해 주세요.\n"
     ]
    },
    {
     "name": "stdin",
     "output_type": "stream",
     "text": [
      "Query:  quit\n"
     ]
    }
   ],
   "source": [
    "import os\n",
    "import json\n",
    "from dotenv import load_dotenv\n",
    "from openai import OpenAI\n",
    "\n",
    "load_dotenv()\n",
    "client = OpenAI(api_key=os.getenv(\"OPENAI_API_KEY\"))\n",
    "\n",
    "# 1) OpenAI 함수 호출 형식으로 도구 정의\n",
    "functions = [\n",
    "    {\n",
    "        \"name\": \"search_papers\",\n",
    "        \"description\": \"주제를 기반으로 arXiv에서 논문을 검색하고 해당 정보를 저장한다.\",\n",
    "        \"parameters\": {\n",
    "            \"type\": \"object\",\n",
    "            \"properties\": {\n",
    "                \"topic\": {\n",
    "                    \"type\": \"string\",\n",
    "                    \"description\": \"검색할 주제\"\n",
    "                },\n",
    "                \"max_results\": {\n",
    "                    \"type\": \"integer\",\n",
    "                    \"description\": \"검색할 최대 결과 수\",\n",
    "                    \"default\": 5\n",
    "                }\n",
    "            },\n",
    "            \"required\": [\"topic\"]\n",
    "        }\n",
    "    },\n",
    "    {\n",
    "        \"name\": \"extract_info\",\n",
    "        \"description\": \"모든 주제 디렉토리에서 특정 논문에 관한 정보를 검색한다.\",\n",
    "        \"parameters\": {\n",
    "            \"type\": \"object\",\n",
    "            \"properties\": {\n",
    "                \"paper_id\": {\n",
    "                    \"type\": \"string\",\n",
    "                    \"description\": \"검색할 논문의 ID\"\n",
    "                }\n",
    "            },\n",
    "            \"required\": [\"paper_id\"]\n",
    "        }\n",
    "    }\n",
    "]\n",
    "\n",
    "# 2) 실제 함수 매핑\n",
    "mapping_tool_function = {\n",
    "    \"search_papers\": search_papers,\n",
    "    \"extract_info\": extract_info\n",
    "}\n",
    "\n",
    "def execute_tool(tool_name, tool_args):\n",
    "    result = mapping_tool_function[tool_name](**tool_args)\n",
    "    if result is None:\n",
    "        return \"작업이 완료되었지만 결과를 반환하지 않았다.\"\n",
    "    if isinstance(result, list):\n",
    "        return \", \".join(result)\n",
    "    if isinstance(result, dict):\n",
    "        return json.dumps(result, indent=2, ensure_ascii=False)\n",
    "    return str(result)\n",
    "\n",
    "def process_query(query: str):\n",
    "    messages = [{\"role\": \"user\", \"content\": query}]\n",
    "\n",
    "    while True:\n",
    "        resp = client.chat.completions.create(\n",
    "            model=\"gpt-4o-mini\",\n",
    "            messages=messages,\n",
    "            functions=functions,\n",
    "            function_call=\"auto\",\n",
    "            max_tokens=2024\n",
    "        )\n",
    "        msg = resp.choices[0].message\n",
    "\n",
    "        # 1) 일반 텍스트 응답\n",
    "        if msg.content is not None:\n",
    "            print(msg.content)\n",
    "            break\n",
    "\n",
    "        # 2) 함수 호출 응답\n",
    "        call = msg.function_call\n",
    "        fname = call.name\n",
    "        fargs = json.loads(call.arguments)\n",
    "\n",
    "        print(f\"Calling tool `{fname}` with args: {fargs}\")\n",
    "        tool_result = execute_tool(fname, fargs)\n",
    "\n",
    "        # assistant의 함수 호출 메시지를 기록\n",
    "        messages.append({\n",
    "            \"role\": \"assistant\",\n",
    "            \"function_call\": {\n",
    "                \"name\": fname,\n",
    "                \"arguments\": call.arguments\n",
    "            }\n",
    "        })\n",
    "        # 함수 실행 결과를 function 역할로 추가\n",
    "        messages.append({\n",
    "            \"role\": \"function\",\n",
    "            \"name\": fname,\n",
    "            \"content\": tool_result\n",
    "        })\n",
    "        # 루프 계속 → 모델이 function 결과를 바탕으로 응답 생성\n",
    "\n",
    "def chat_loop():\n",
    "    print(\"쿼리를 입력하거나 'quit'를 입력해 종료합니다.\")\n",
    "    while True:\n",
    "        query = input(\"Query: \").strip()\n",
    "        if query.lower() == \"quit\":\n",
    "            break\n",
    "        try:\n",
    "            process_query(query)\n",
    "        except Exception as e:\n",
    "            print(f\"Error: {e}\")\n",
    "\n",
    "if __name__ == \"__main__\":\n",
    "    chat_loop()"
   ]
  }
 ],
 "metadata": {
  "kernelspec": {
   "display_name": "mlops",
   "language": "python",
   "name": "mlops"
  },
  "language_info": {
   "codemirror_mode": {
    "name": "ipython",
    "version": 3
   },
   "file_extension": ".py",
   "mimetype": "text/x-python",
   "name": "python",
   "nbconvert_exporter": "python",
   "pygments_lexer": "ipython3",
   "version": "3.10.14"
  }
 },
 "nbformat": 4,
 "nbformat_minor": 5
}
